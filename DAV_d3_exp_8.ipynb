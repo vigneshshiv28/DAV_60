{
  "nbformat": 4,
  "nbformat_minor": 0,
  "metadata": {
    "colab": {
      "provenance": [],
      "authorship_tag": "ABX9TyP/R5VIv5R0gq3raPaJwL3Q",
      "include_colab_link": true
    },
    "kernelspec": {
      "name": "python3",
      "display_name": "Python 3"
    },
    "language_info": {
      "name": "python"
    }
  },
  "cells": [
    {
      "cell_type": "markdown",
      "metadata": {
        "id": "view-in-github",
        "colab_type": "text"
      },
      "source": [
        "<a href=\"https://colab.research.google.com/github/vigneshshiv28/DAV_60/blob/main/DAV_d3_exp_8.ipynb\" target=\"_parent\"><img src=\"https://colab.research.google.com/assets/colab-badge.svg\" alt=\"Open In Colab\"/></a>"
      ]
    },
    {
      "cell_type": "code",
      "execution_count": null,
      "metadata": {
        "colab": {
          "base_uri": "https://localhost:8080/",
          "height": 34
        },
        "id": "2d_XeFRNPeY0",
        "outputId": "f29d786d-fe99-43c2-d04c-643ff3aa0821"
      },
      "outputs": [
        {
          "output_type": "display_data",
          "data": {
            "text/plain": [
              "<IPython.core.display.HTML object>"
            ],
            "text/html": [
              "<!DOCTYPE html>\n",
              "<html>\n",
              "   <head>\n",
              "      <script type = \"text/javascript\" src = \"https://d3js.org/d3.v4.min.js\"></script>\n",
              "   </head>\n",
              "\n",
              "   <body>\n",
              "      <div>\n",
              "         Hello World!    \n",
              "      </div>\n",
              "      \n",
              "      <script>\n",
              "         d3.select(\"div\").text(\"Vignesh 60\");\n",
              "      </script>\n",
              "   </body>\n",
              "</html>\n"
            ]
          },
          "metadata": {}
        }
      ],
      "source": [
        "%%html\n",
        "<!DOCTYPE html>\n",
        "<html>\n",
        "   <head>\n",
        "      <script type = \"text/javascript\" src = \"https://d3js.org/d3.v4.min.js\"></script>\n",
        "   </head>\n",
        "\n",
        "   <body>\n",
        "      <div>\n",
        "         Hello World!\n",
        "      </div>\n",
        "\n",
        "      <script>\n",
        "         d3.select(\"div\").text(\"Vignesh 60\");\n",
        "      </script>\n",
        "   </body>\n",
        "</html>"
      ]
    },
    {
      "cell_type": "markdown",
      "source": [
        "Using the select command modifying content of selected tag"
      ],
      "metadata": {
        "id": "rAA3_XtNPze7"
      }
    },
    {
      "cell_type": "code",
      "source": [
        "%%html\n",
        "<!DOCTYPE html>\n",
        "<html>\n",
        "   <head>\n",
        "      <script type = \"text/javascript\" src = \"https://d3js.org/d3.v4.min.js\"></script>\n",
        "   </head>\n",
        "\n",
        "   <body>\n",
        "      <div class = \"myclass\">\n",
        "        DAV experiment\n",
        "      </div>\n",
        "\n",
        "      <div class = \"myclass\">\n",
        "         Hello World!\n",
        "      </div>\n",
        "            <script>\n",
        "         d3.select(\".myclass\").text(\"Vignesh 60\");\n",
        "      </script>\n",
        "   </body>\n",
        "</html>"
      ],
      "metadata": {
        "colab": {
          "base_uri": "https://localhost:8080/",
          "height": 52
        },
        "id": "_4-cduN5QNzy",
        "outputId": "44e060df-dbd4-4c0f-8487-ffc1fe1aa4fd"
      },
      "execution_count": null,
      "outputs": [
        {
          "output_type": "display_data",
          "data": {
            "text/plain": [
              "<IPython.core.display.HTML object>"
            ],
            "text/html": [
              "<!DOCTYPE html>\n",
              "<html>\n",
              "   <head>\n",
              "      <script type = \"text/javascript\" src = \"https://d3js.org/d3.v4.min.js\"></script>\n",
              "   </head>\n",
              "\n",
              "   <body>\n",
              "      <div class = \"myclass\">\n",
              "        DAV experiment\n",
              "      </div>\n",
              "\n",
              "      <div class = \"myclass\">\n",
              "         Hello World!\n",
              "      </div>\n",
              "            <script>\n",
              "         d3.select(\".myclass\").text(\"Vignesh 60\");\n",
              "      </script>\n",
              "   </body>\n",
              "</html>\n"
            ]
          },
          "metadata": {}
        }
      ]
    },
    {
      "cell_type": "markdown",
      "source": [
        "Selecting element based on class and modifying the content in it.\n",
        "It only changes the first element that is encountered in DOM."
      ],
      "metadata": {
        "id": "C21qB6C6Qa44"
      }
    },
    {
      "cell_type": "code",
      "source": [
        "%%html\n",
        "<!DOCTYPE html>\n",
        "<html>\n",
        "   <head>\n",
        "      <script type = \"text/javascript\" src = \"https://d3js.org/d3.v4.min.js\"></script>\n",
        "   </head>\n",
        "\n",
        "   <body>\n",
        "      <div id = \"hello\">\n",
        "         Hello World!\n",
        "      </div>\n",
        "\n",
        "      <script>\n",
        "         d3.select(\"#hello\").text(\"Vignesh 60\");\n",
        "      </script>\n",
        "   </body>\n",
        "</html>"
      ],
      "metadata": {
        "colab": {
          "base_uri": "https://localhost:8080/",
          "height": 34
        },
        "id": "NXELmSIkRXe5",
        "outputId": "5fbee7fb-e6a3-4ea9-bb83-34dc89f74f3f"
      },
      "execution_count": null,
      "outputs": [
        {
          "output_type": "display_data",
          "data": {
            "text/plain": [
              "<IPython.core.display.HTML object>"
            ],
            "text/html": [
              "<!DOCTYPE html>\n",
              "<html>\n",
              "   <head>\n",
              "      <script type = \"text/javascript\" src = \"https://d3js.org/d3.v4.min.js\"></script>\n",
              "   </head>\n",
              "\n",
              "   <body>\n",
              "      <div id = \"hello\">\n",
              "         Hello World!\n",
              "      </div>\n",
              "      \n",
              "      <script>\n",
              "         d3.select(\"#hello\").text(\"Vignesh 60\");\n",
              "      </script>\n",
              "   </body>\n",
              "</html>\n"
            ]
          },
          "metadata": {}
        }
      ]
    },
    {
      "cell_type": "markdown",
      "source": [
        "Selecting element based on ID of tag"
      ],
      "metadata": {
        "id": "qKtlv-aLRoyq"
      }
    },
    {
      "cell_type": "code",
      "source": [
        "%%html\n",
        "<!DOCTYPE html>\n",
        "<html>\n",
        "   <head>\n",
        "      <script type = \"text/javascript\" src = \"https://d3js.org/d3.v4.min.js\"></script>\n",
        "   </head>\n",
        "\n",
        "   <body>\n",
        "      <div class = \"myclass\">\n",
        "         Vignesh 60\n",
        "      </div>\n",
        "\n",
        "      <script>\n",
        "         d3.select(\"div.myclass\").append(\"span\");\n",
        "      </script>\n",
        "   </body>\n",
        "</html>"
      ],
      "metadata": {
        "colab": {
          "base_uri": "https://localhost:8080/",
          "height": 34
        },
        "id": "a5XcQG16Rtj5",
        "outputId": "a674354d-1483-4034-f384-f47b2508bfff"
      },
      "execution_count": null,
      "outputs": [
        {
          "output_type": "display_data",
          "data": {
            "text/plain": [
              "<IPython.core.display.HTML object>"
            ],
            "text/html": [
              "<!DOCTYPE html>\n",
              "<html>\n",
              "   <head>\n",
              "      <script type = \"text/javascript\" src = \"https://d3js.org/d3.v4.min.js\"></script>\n",
              "   </head>\n",
              "\n",
              "   <body>\n",
              "      <div class = \"myclass\">\n",
              "         Vignesh 60\n",
              "      </div>\n",
              "      \n",
              "      <script>\n",
              "         d3.select(\"div.myclass\").append(\"span\");\n",
              "      </script>\n",
              "   </body>\n",
              "</html>\n"
            ]
          },
          "metadata": {}
        }
      ]
    },
    {
      "cell_type": "markdown",
      "source": [
        "Appending span tag in to selected element"
      ],
      "metadata": {
        "id": "iJJrlFqdSuOx"
      }
    },
    {
      "cell_type": "markdown",
      "source": [],
      "metadata": {
        "id": "HOXDVcVlSuOB"
      }
    },
    {
      "cell_type": "code",
      "source": [
        "%%html\n",
        "<!DOCTYPE html>\n",
        "<html>\n",
        "   <head>\n",
        "      <script type = \"text/javascript\" src = \"https://d3js.org/d3.v4.min.js\"></script>\n",
        "   </head>\n",
        "\n",
        "   <body>\n",
        "      <div class = \"myclass\">\n",
        "         Vignesh 60\n",
        "      </div>\n",
        "\n",
        "      <script>\n",
        "         d3.select(\".myclass\").html(\"Vignesh <span>D11AD</span>\");\n",
        "      </script>\n",
        "   </body>\n",
        "</html>"
      ],
      "metadata": {
        "colab": {
          "base_uri": "https://localhost:8080/",
          "height": 34
        },
        "id": "Qv9ylj3KStqB",
        "outputId": "a320a147-487f-4961-ecb8-3b9d17ef0cf2"
      },
      "execution_count": null,
      "outputs": [
        {
          "output_type": "display_data",
          "data": {
            "text/plain": [
              "<IPython.core.display.HTML object>"
            ],
            "text/html": [
              "<!DOCTYPE html>\n",
              "<html>\n",
              "   <head>\n",
              "      <script type = \"text/javascript\" src = \"https://d3js.org/d3.v4.min.js\"></script>\n",
              "   </head>\n",
              "\n",
              "   <body>\n",
              "      <div class = \"myclass\">\n",
              "         Vignesh 60\n",
              "      </div>\n",
              "      \n",
              "      <script>\n",
              "         d3.select(\".myclass\").html(\"Vignesh <span>D11AD</span>\");\n",
              "      </script>\n",
              "   </body>\n",
              "</html>\n"
            ]
          },
          "metadata": {}
        }
      ]
    },
    {
      "cell_type": "markdown",
      "source": [
        "Modifying content of tag using html() function"
      ],
      "metadata": {
        "id": "FOH7vH5eTQNI"
      }
    },
    {
      "cell_type": "code",
      "source": [
        "%%html\n",
        "<!DOCTYPE html>\n",
        "<html>\n",
        "   <head>\n",
        "      <script type = \"text/javascript\" src = \"https://d3js.org/d3.v4.min.js\"></script>\n",
        "   </head>\n",
        "\n",
        "   <body>\n",
        "      <div class = \"myclass\">\n",
        "         Vignesh 60\n",
        "      </div>\n",
        "\n",
        "      <script>\n",
        "         d3.select(\".myclass\").attr(\"style\", \"color: orange\");\n",
        "      </script>\n",
        "   </body>\n",
        "</html>"
      ],
      "metadata": {
        "colab": {
          "base_uri": "https://localhost:8080/",
          "height": 34
        },
        "id": "ahK9kiMDTZGR",
        "outputId": "ef24dec8-5820-4109-d488-f6d0b9f9c87c"
      },
      "execution_count": null,
      "outputs": [
        {
          "output_type": "display_data",
          "data": {
            "text/plain": [
              "<IPython.core.display.HTML object>"
            ],
            "text/html": [
              "<!DOCTYPE html>\n",
              "<html>\n",
              "   <head>\n",
              "      <script type = \"text/javascript\" src = \"https://d3js.org/d3.v4.min.js\"></script>\n",
              "   </head>\n",
              "\n",
              "   <body>\n",
              "      <div class = \"myclass\">\n",
              "         Vignesh 60\n",
              "      </div>\n",
              "      \n",
              "      <script>\n",
              "         d3.select(\".myclass\").attr(\"style\", \"color: orange\");\n",
              "      </script>\n",
              "   </body>\n",
              "</html>\n"
            ]
          },
          "metadata": {}
        }
      ]
    },
    {
      "cell_type": "markdown",
      "source": [
        "Changing the colour of text using attr() function"
      ],
      "metadata": {
        "id": "A9J4-G9LTqhx"
      }
    },
    {
      "cell_type": "markdown",
      "source": [],
      "metadata": {
        "id": "xB2w95_kTqhB"
      }
    },
    {
      "cell_type": "code",
      "source": [
        "%%html\n",
        "<!DOCTYPE html>\n",
        "<html>\n",
        "   <head>\n",
        "      <script type = \"text/javascript\" src = \"https://d3js.org/d3.v4.min.js\"></script>\n",
        "   </head>\n",
        "\n",
        "   <body>\n",
        "      <div class = \"myclass\">\n",
        "         Vignesh 60\n",
        "      </div>\n",
        "\n",
        "      <script>\n",
        "         d3.select(\".myclass\").style(\"color\", \"blue\");\n",
        "      </script>\n",
        "   </body>\n",
        "</html>\n"
      ],
      "metadata": {
        "colab": {
          "base_uri": "https://localhost:8080/",
          "height": 34
        },
        "id": "gDY8TtiwT1Go",
        "outputId": "caf9fd83-528c-41f2-ca3e-7f3489bf1a12"
      },
      "execution_count": null,
      "outputs": [
        {
          "output_type": "display_data",
          "data": {
            "text/plain": [
              "<IPython.core.display.HTML object>"
            ],
            "text/html": [
              "<!DOCTYPE html>\n",
              "<html>\n",
              "   <head>\n",
              "      <script type = \"text/javascript\" src = \"https://d3js.org/d3.v4.min.js\"></script>\n",
              "   </head>\n",
              "\n",
              "   <body>\n",
              "      <div class = \"myclass\">\n",
              "         Vignesh 60\n",
              "      </div>\n",
              "      \n",
              "      <script>\n",
              "         d3.select(\".myclass\").style(\"color\", \"blue\");\n",
              "      </script>\n",
              "   </body>\n",
              "</html>\n"
            ]
          },
          "metadata": {}
        }
      ]
    },
    {
      "cell_type": "markdown",
      "source": [
        "Changing the colour of tag using style() function"
      ],
      "metadata": {
        "id": "QRRwNsdiUPpd"
      }
    },
    {
      "cell_type": "code",
      "source": [
        "%%html\n",
        "<!DOCTYPE html>\n",
        "<html>\n",
        "   <head>\n",
        "      <script type = \"text/javascript\" src = \"https://d3js.org/d3.v4.min.js\"></script>\n",
        "   </head>\n",
        "\n",
        "   <body>\n",
        "      <h2 class = \"myclass\">DAV experiment</h2>\n",
        "      <div class = \"myclass\">\n",
        "         Vignesh 60\n",
        "      </div>\n",
        "\n",
        "      <script>\n",
        "         d3.selectAll(\".myclass\").attr(\"style\", \"color: red\");\n",
        "      </script>\n",
        "   </body>\n",
        "</html>"
      ],
      "metadata": {
        "colab": {
          "base_uri": "https://localhost:8080/",
          "height": 82
        },
        "id": "hGsmVcOZUYvU",
        "outputId": "35b88eb0-2694-49c4-f8c7-6bef7f2e8abb"
      },
      "execution_count": null,
      "outputs": [
        {
          "output_type": "display_data",
          "data": {
            "text/plain": [
              "<IPython.core.display.HTML object>"
            ],
            "text/html": [
              "<!DOCTYPE html>\n",
              "<html>\n",
              "   <head>\n",
              "      <script type = \"text/javascript\" src = \"https://d3js.org/d3.v4.min.js\"></script>\n",
              "   </head>\n",
              "\n",
              "   <body>\n",
              "      <h2 class = \"myclass\">DAV experiment</h2>\n",
              "      <div class = \"myclass\">\n",
              "         Vignesh 60\n",
              "      </div>\n",
              "      \n",
              "      <script>\n",
              "         d3.selectAll(\".myclass\").attr(\"style\", \"color: red\");\n",
              "      </script>\n",
              "   </body>\n",
              "</html>\n"
            ]
          },
          "metadata": {}
        }
      ]
    },
    {
      "cell_type": "markdown",
      "source": [
        "Selecting all tags with class=\"myclass\" using selectALL() function"
      ],
      "metadata": {
        "id": "ugFRTEXAVQ_y"
      }
    },
    {
      "cell_type": "code",
      "source": [
        "%%html\n",
        "<!DOCTYPE html>\n",
        "<html>\n",
        "   <head>\n",
        "      <script type = \"text/javascript\" src = \"https://d3js.org/d3.v4.min.js\"></script>\n",
        "      <style>\n",
        "         body { font-family: Arial; }\n",
        "      </style>\n",
        "   </head>\n",
        "\n",
        "   <body>\n",
        "      <ul id = \"list\">\n",
        "         <li></li>\n",
        "         <li></li>\n",
        "      </ul>\n",
        "\n",
        "      <input type = \"button\" name = \"remove\" value = \"Remove fourth value\"\n",
        "         onclick = \"javascript:remove()\" />\n",
        "\n",
        "      <script>\n",
        "         d3.select(\"#list\").selectAll(\"li\")\n",
        "            .data([10, 20, 30, 25, 15])\n",
        "            .text(function(d)\n",
        "               { return \"This is pre-existing element and the value is \" + d; })\n",
        "            .enter()\n",
        "            .append(\"li\")\n",
        "            .text(function(d)\n",
        "               { return \"This is dynamically created element and the value is \" + d; });\n",
        "\n",
        "         function remove() {\n",
        "            d3.selectAll(\"li\")\n",
        "            .data([10, 20, 30, 15])\n",
        "            .exit()\n",
        "            .remove()\n",
        "         }\n",
        "      </script>\n",
        "   </body>\n",
        "</html>"
      ],
      "metadata": {
        "id": "yLh6IB6lVe2C",
        "colab": {
          "base_uri": "https://localhost:8080/",
          "height": 135
        },
        "outputId": "6d820ae4-85ea-4805-d872-ebd21dfd3f58"
      },
      "execution_count": null,
      "outputs": [
        {
          "output_type": "display_data",
          "data": {
            "text/plain": [
              "<IPython.core.display.HTML object>"
            ],
            "text/html": [
              "<!DOCTYPE html>\n",
              "<html>\n",
              "   <head>\n",
              "      <script type = \"text/javascript\" src = \"https://d3js.org/d3.v4.min.js\"></script>\n",
              "      <style>\n",
              "         body { font-family: Arial; }\n",
              "      </style>\n",
              "   </head>\n",
              "\n",
              "   <body>\n",
              "      <ul id = \"list\">\n",
              "         <li></li>\n",
              "         <li></li>\n",
              "      </ul>\n",
              "        \n",
              "      <input type = \"button\" name = \"remove\" value = \"Remove fourth value\" \n",
              "         onclick = \"javascript:remove()\" />\n",
              "      \n",
              "      <script>\n",
              "         d3.select(\"#list\").selectAll(\"li\")\n",
              "            .data([10, 20, 30, 25, 15])\n",
              "            .text(function(d) \n",
              "               { return \"This is pre-existing element and the value is \" + d; })\n",
              "            .enter()\n",
              "            .append(\"li\")\n",
              "            .text(function(d) \n",
              "               { return \"This is dynamically created element and the value is \" + d; });\n",
              "             \n",
              "         function remove() {\n",
              "            d3.selectAll(\"li\")\n",
              "            .data([10, 20, 30, 15])\n",
              "            .exit()\n",
              "            .remove()\n",
              "         }\n",
              "      </script>\n",
              "   </body>\n",
              "</html>\n"
            ]
          },
          "metadata": {}
        }
      ]
    },
    {
      "cell_type": "markdown",
      "source": [
        "Using data() function to append the data in tag"
      ],
      "metadata": {
        "id": "0bICHruRXlQJ"
      }
    },
    {
      "cell_type": "code",
      "source": [
        "%%html\n",
        "<!DOCTYPE html>\n",
        "<html>\n",
        "   <head>\n",
        "      <script type = \"text/javascript\" src = \"https://d3js.org/d3.v4.min.js\"></script>\n",
        "      <style>\n",
        "         body { font-family: Arial; }\n",
        "      </style>\n",
        "   </head>\n",
        "\n",
        "   <body>\n",
        "      <div id = \"svgcontainer\">\n",
        "         <svg width = \"500\" height = \"300\">\n",
        "            <line x1 = \"60\" y1 = \"100\"\n",
        "               x2 = \"100\" y2 = \"300\" style = \"stroke:rgb(255,0,200);\n",
        "               stroke-width:2\"/>\n",
        "         </svg>\n",
        "      </div>\n",
        "      <p></p>\n",
        "      <p></p>\n",
        "   </body>\n",
        "</html>\n"
      ],
      "metadata": {
        "colab": {
          "base_uri": "https://localhost:8080/",
          "height": 327
        },
        "id": "MiPyq17rYfgZ",
        "outputId": "b52b6dfb-00e5-4634-93bb-560c8d2ec043"
      },
      "execution_count": null,
      "outputs": [
        {
          "output_type": "display_data",
          "data": {
            "text/plain": [
              "<IPython.core.display.HTML object>"
            ],
            "text/html": [
              "<!DOCTYPE html>\n",
              "<html>\n",
              "   <head>\n",
              "      <script type = \"text/javascript\" src = \"https://d3js.org/d3.v4.min.js\"></script>\n",
              "      <style>\n",
              "         body { font-family: Arial; }\n",
              "      </style>\n",
              "   </head>\n",
              "\n",
              "   <body>\n",
              "      <div id = \"svgcontainer\">\n",
              "         <svg width = \"500\" height = \"300\">\n",
              "            <line x1 = \"60\" y1 = \"100\" \n",
              "               x2 = \"100\" y2 = \"300\" style = \"stroke:rgb(255,0,200);\n",
              "               stroke-width:2\"/>\n",
              "         </svg>\n",
              "      </div>\n",
              "      <p></p>\n",
              "      <p></p>\n",
              "   </body>\n",
              "</html>\n"
            ]
          },
          "metadata": {}
        }
      ]
    },
    {
      "cell_type": "markdown",
      "source": [
        "Drawing a line using SVG"
      ],
      "metadata": {
        "id": "up3jm2OtaAF5"
      }
    },
    {
      "cell_type": "code",
      "source": [
        "%%html\n",
        "<!DOCTYPE html>\n",
        "<html>\n",
        "   <head>\n",
        "      <script type = \"text/javascript\" src = \"https://d3js.org/d3.v4.min.js\"></script>\n",
        "   </head>\n",
        "\n",
        "   <body>\n",
        "      <div id = \"svgcontainer\"></div>\n",
        "      <script>\n",
        "         var width = 300;\n",
        "         var height = 300;\n",
        "         //Create SVG element\n",
        "         var svg = d3.select(\"#svgcontainer\")\n",
        "            .append(\"svg\")\n",
        "            .attr(\"width\", width)\n",
        "            .attr(\"height\", height);\n",
        "         //Create and append rectangle element\n",
        "         svg.append(\"rect\")\n",
        "            .attr(\"x\", 20)\n",
        "            .attr(\"y\", 20)\n",
        "            .attr(\"width\", 200)\n",
        "            .attr(\"height\", 100)\n",
        "            .attr(\"fill\",\"coral\");\n",
        "      </script>\n",
        "   </body>\n",
        "</html>"
      ],
      "metadata": {
        "colab": {
          "base_uri": "https://localhost:8080/",
          "height": 321
        },
        "id": "Hr1MmkMSaJyw",
        "outputId": "455d167b-ae63-4fcc-85bf-4a404b7746bc"
      },
      "execution_count": null,
      "outputs": [
        {
          "output_type": "display_data",
          "data": {
            "text/plain": [
              "<IPython.core.display.HTML object>"
            ],
            "text/html": [
              "<!DOCTYPE html>\n",
              "<html>\n",
              "   <head>\n",
              "      <script type = \"text/javascript\" src = \"https://d3js.org/d3.v4.min.js\"></script>\n",
              "   </head>\n",
              "\n",
              "   <body>\n",
              "      <div id = \"svgcontainer\"></div>\n",
              "      <script>\n",
              "         var width = 300;\n",
              "         var height = 300;\n",
              "         //Create SVG element\n",
              "         var svg = d3.select(\"#svgcontainer\")\n",
              "            .append(\"svg\")\n",
              "            .attr(\"width\", width)\n",
              "            .attr(\"height\", height);\n",
              "         //Create and append rectangle element\n",
              "         svg.append(\"rect\")\n",
              "            .attr(\"x\", 20)\n",
              "            .attr(\"y\", 20)\n",
              "            .attr(\"width\", 200)\n",
              "            .attr(\"height\", 100)\n",
              "            .attr(\"fill\",\"coral\");\n",
              "      </script>\n",
              "   </body>\n",
              "</html>\n"
            ]
          },
          "metadata": {}
        }
      ]
    },
    {
      "cell_type": "markdown",
      "source": [
        "Drawing a rectangle using SVG rectangle element"
      ],
      "metadata": {
        "id": "n6Bcz5UdcvJ5"
      }
    },
    {
      "cell_type": "code",
      "source": [
        "%%html\n",
        "<!DOCTYPE html>\n",
        "<html>\n",
        "   <head>\n",
        "      <script type = \"text/javascript\" src = \"https://d3js.org/d3.v4.min.js\"></script>\n",
        "   </head>\n",
        "\n",
        "   <body>\n",
        "      <div id = \"svgcontainer\"></div>\n",
        "      <script>\n",
        "         var width = 300;\n",
        "         var height = 150;\n",
        "         //Create SVG element\n",
        "         var svg = d3.select(\"#svgcontainer\")\n",
        "            .append(\"svg\")\n",
        "            .attr(\"width\", width)\n",
        "            .attr(\"height\", height);\n",
        "         //Append circle\n",
        "         svg.append(\"circle\")\n",
        "            .attr(\"cx\", 200)\n",
        "            .attr(\"cy\", 50)\n",
        "            .attr(\"r\", 50)\n",
        "            .attr(\"fill\", \"yellow\");\n",
        "      </script>\n",
        "   </body>\n",
        "</html>"
      ],
      "metadata": {
        "colab": {
          "base_uri": "https://localhost:8080/",
          "height": 171
        },
        "id": "ug47VZP_chGO",
        "outputId": "b1fc13f9-ccf8-4e45-f705-d432fbf31ced"
      },
      "execution_count": null,
      "outputs": [
        {
          "output_type": "display_data",
          "data": {
            "text/plain": [
              "<IPython.core.display.HTML object>"
            ],
            "text/html": [
              "<!DOCTYPE html>\n",
              "<html>\n",
              "   <head>\n",
              "      <script type = \"text/javascript\" src = \"https://d3js.org/d3.v4.min.js\"></script>\n",
              "   </head>\n",
              "\n",
              "   <body>\n",
              "      <div id = \"svgcontainer\"></div>\n",
              "      <script>\n",
              "         var width = 300;\n",
              "         var height = 150;\n",
              "         //Create SVG element\n",
              "         var svg = d3.select(\"#svgcontainer\")\n",
              "            .append(\"svg\")\n",
              "            .attr(\"width\", width)\n",
              "            .attr(\"height\", height);\n",
              "         //Append circle \n",
              "         svg.append(\"circle\")\n",
              "            .attr(\"cx\", 200)\n",
              "            .attr(\"cy\", 50)\n",
              "            .attr(\"r\", 50)\n",
              "            .attr(\"fill\", \"yellow\");\n",
              "      </script>\n",
              "   </body>\n",
              "</html>\n"
            ]
          },
          "metadata": {}
        }
      ]
    },
    {
      "cell_type": "markdown",
      "source": [
        "Drawing a circle using SVG circle element"
      ],
      "metadata": {
        "id": "YJUmuCo6c7_n"
      }
    },
    {
      "cell_type": "code",
      "source": [
        "%%html\n",
        "<html>\n",
        "   <head>\n",
        "      <script type = \"text/javascript\" src = \"https://d3js.org/d3.v4.min.js\"></script>\n",
        "   </head>\n",
        "\n",
        "   <body>\n",
        "      <div id = \"svgcontainer\"></div>\n",
        "      <script>\n",
        "         var width = 300;\n",
        "         var height = 150;\n",
        "         var svg = d3.select(\"#svgcontainer\")\n",
        "            .append(\"svg\")\n",
        "            .attr(\"width\", width)\n",
        "            .attr(\"height\", height);\n",
        "         svg.append(\"ellipse\")\n",
        "            .attr(\"cx\", 200)\n",
        "            .attr(\"cy\", 50)\n",
        "            .attr(\"rx\", 30)\n",
        "            .attr(\"ry\", 50)\n",
        "            .attr(\"fill\", \"blue\")\n",
        "      </script>\n",
        "   </body>\n",
        "</html>"
      ],
      "metadata": {
        "colab": {
          "base_uri": "https://localhost:8080/",
          "height": 171
        },
        "id": "xr14O50CchFq",
        "outputId": "d9b681c4-0a9e-4245-9d91-81ebdc30efbc"
      },
      "execution_count": null,
      "outputs": [
        {
          "output_type": "display_data",
          "data": {
            "text/plain": [
              "<IPython.core.display.HTML object>"
            ],
            "text/html": [
              "<html>\n",
              "   <head>\n",
              "      <script type = \"text/javascript\" src = \"https://d3js.org/d3.v4.min.js\"></script>\n",
              "   </head>\n",
              "\n",
              "   <body>\n",
              "      <div id = \"svgcontainer\"></div>\n",
              "      <script>\n",
              "         var width = 300;\n",
              "         var height = 150;\n",
              "         var svg = d3.select(\"#svgcontainer\")\n",
              "            .append(\"svg\")\n",
              "            .attr(\"width\", width)\n",
              "            .attr(\"height\", height);\n",
              "         svg.append(\"ellipse\")\n",
              "            .attr(\"cx\", 200)\n",
              "            .attr(\"cy\", 50)\n",
              "            .attr(\"rx\", 30)\n",
              "            .attr(\"ry\", 50)\n",
              "            .attr(\"fill\", \"blue\")\n",
              "      </script>\n",
              "   </body>\n",
              "</html>\n"
            ]
          },
          "metadata": {}
        }
      ]
    },
    {
      "cell_type": "markdown",
      "source": [
        "Drawing Ellipse usine ellipse element of SVG"
      ],
      "metadata": {
        "id": "bgiHV7oqd3vs"
      }
    },
    {
      "cell_type": "code",
      "source": [
        "%%html\n",
        "<html>\n",
        "   <head>\n",
        "      <script type = \"text/javascript\" src = \"https://d3js.org/d3.v4.min.js\"></script>\n",
        "   </head>\n",
        "\n",
        "   <body>\n",
        "      <svg width = \"300\" height = \"300\">\n",
        "         <rect x = \"20\"\n",
        "            y = \"20\"\n",
        "            width = \"60\"\n",
        "            height = \"60\"\n",
        "            fill = \"red\"\n",
        "            transform = \"translate(100 100)\">\n",
        "         </rect>\n",
        "      </svg>\n",
        "   </body>\n",
        "</html>"
      ],
      "metadata": {
        "colab": {
          "base_uri": "https://localhost:8080/",
          "height": 321
        },
        "id": "h65KMOuueFth",
        "outputId": "79d18e41-598a-4f5b-e036-5f6061492a9b"
      },
      "execution_count": null,
      "outputs": [
        {
          "output_type": "display_data",
          "data": {
            "text/plain": [
              "<IPython.core.display.HTML object>"
            ],
            "text/html": [
              "<html>\n",
              "   <head>\n",
              "      <script type = \"text/javascript\" src = \"https://d3js.org/d3.v4.min.js\"></script>\n",
              "   </head>\n",
              "\n",
              "   <body>\n",
              "      <svg width = \"300\" height = \"300\">\n",
              "         <rect x = \"20\" \n",
              "            y = \"20\"\n",
              "            width = \"60\"\n",
              "            height = \"60\"\n",
              "            fill = \"red\"\n",
              "            transform = \"translate(100 100)\">\n",
              "         </rect>\n",
              "      </svg>\n",
              "   </body>\n",
              "</html>\n"
            ]
          },
          "metadata": {}
        }
      ]
    },
    {
      "cell_type": "markdown",
      "source": [
        "Translating Text by 100 pixels to right and 100 pixels to left using transform property"
      ],
      "metadata": {
        "id": "j_S9BAVwgDRX"
      }
    },
    {
      "cell_type": "code",
      "source": [
        "%%html\n",
        "<html>\n",
        "   <head>\n",
        "      <script type = \"text/javascript\" src = \"https://d3js.org/d3.v4.min.js\"></script>\n",
        "   </head>\n",
        "\n",
        "   <body>\n",
        "      <svg width = \"300\" height = \"300\">\n",
        "         <rect x = \"20\"\n",
        "            y = \"20\"\n",
        "            width = \"60\"\n",
        "            height = \"60\"\n",
        "            fill = \"coral\"\n",
        "            transform = \"translate(60 60) rotate(70)\">\n",
        "         </rect>\n",
        "      </svg>\n",
        "   </body>\n",
        "</html>"
      ],
      "metadata": {
        "colab": {
          "base_uri": "https://localhost:8080/",
          "height": 321
        },
        "id": "yxwomixcg0J4",
        "outputId": "ef27fbe5-9625-422f-db9a-43dd273f20a5"
      },
      "execution_count": null,
      "outputs": [
        {
          "output_type": "display_data",
          "data": {
            "text/plain": [
              "<IPython.core.display.HTML object>"
            ],
            "text/html": [
              "<html>\n",
              "   <head>\n",
              "      <script type = \"text/javascript\" src = \"https://d3js.org/d3.v4.min.js\"></script>\n",
              "   </head>\n",
              "\n",
              "   <body>\n",
              "      <svg width = \"300\" height = \"300\">\n",
              "         <rect x = \"20\" \n",
              "            y = \"20\" \n",
              "            width = \"60\" \n",
              "            height = \"60\" \n",
              "            fill = \"coral\" \n",
              "            transform = \"translate(60 60) rotate(70)\">\n",
              "         </rect>\n",
              "      </svg>\n",
              "   </body>\n",
              "</html>\n"
            ]
          },
          "metadata": {}
        }
      ]
    },
    {
      "cell_type": "markdown",
      "source": [
        "Transforming a rectangle and rotating it by 70 degree"
      ],
      "metadata": {
        "id": "ErtDWmB2hPW3"
      }
    },
    {
      "cell_type": "code",
      "source": [
        "  %%html\n",
        "  <html>\n",
        "   <head>\n",
        "      <script type = \"text/javascript\" src = \"https://d3js.org/d3.v4.min.js\"></script>\n",
        "   </head>\n",
        "\n",
        "   <body>\n",
        "      <svg width = \"300\" height = \"300\">\n",
        "         <g transform = \"translate(60,60) rotate(30)\">\n",
        "            <rect x = \"20\"\n",
        "               y = \"20\"\n",
        "               width = \"60\"\n",
        "               height = \"30\"\n",
        "               fill = \"violet\">\n",
        "            </rect>\n",
        "            <circle cx = \"0\"\n",
        "               cy = \"0\"\n",
        "               r = \"30\"\n",
        "               fill = \"yellow\"/>\n",
        "         </g>\n",
        "      </svg>\n",
        "   </body>\n",
        "</html>"
      ],
      "metadata": {
        "id": "ji3EujeNhDIJ",
        "colab": {
          "base_uri": "https://localhost:8080/",
          "height": 321
        },
        "outputId": "62dbc1c3-c27e-44b6-89ff-39e2a5b0e69a"
      },
      "execution_count": 2,
      "outputs": [
        {
          "output_type": "display_data",
          "data": {
            "text/plain": [
              "<IPython.core.display.HTML object>"
            ],
            "text/html": [
              "<html>\n",
              " <head>\n",
              "    <script type = \"text/javascript\" src = \"https://d3js.org/d3.v4.min.js\"></script>\n",
              " </head>\n",
              "\n",
              " <body>\n",
              "    <svg width = \"300\" height = \"300\">\n",
              "       <g transform = \"translate(60,60) rotate(30)\">\n",
              "          <rect x = \"20\" \n",
              "             y = \"20\" \n",
              "             width = \"60\" \n",
              "             height = \"30\" \n",
              "             fill = \"violet\">\n",
              "          </rect>\n",
              "          <circle cx = \"0\" \n",
              "             cy = \"0\" \n",
              "             r = \"30\" \n",
              "             fill = \"yellow\"/>\n",
              "       </g>\n",
              "    </svg>\n",
              " </body>\n",
              "</html>\n"
            ]
          },
          "metadata": {}
        }
      ]
    },
    {
      "cell_type": "markdown",
      "source": [
        "Translating and Rotating rectangle"
      ],
      "metadata": {
        "id": "dac38EmtcNI5"
      }
    },
    {
      "cell_type": "code",
      "source": [
        " %%html\n",
        "<!DOCTYPE html>\n",
        "<html>\n",
        "   <head>\n",
        "      <script type = \"text/javascript\" src = \"https://d3js.org/d3.v4.min.js\"></script>\n",
        "      <style>\n",
        "         body { font-family: Arial; }\n",
        "      </style>\n",
        "   </head>\n",
        "\n",
        "   <body>\n",
        "      <div id = \"svgcontainer\">\n",
        "         <svg width = \"300\" height = \"300\">\n",
        "            <g transform = \"translate(60,60) rotate(30)\">\n",
        "               <rect x = \"20\"\n",
        "                  y = \"20\"\n",
        "                  width = \"60\"\n",
        "                  height = \"60\"\n",
        "                  fill = \"purple\">\n",
        "               </rect>\n",
        "               <circle cx = \"0\"\n",
        "                  cy = \"0\"\n",
        "                  r = \"30\"\n",
        "                  fill = \"orange\"/>\n",
        "            </g>\n",
        "         </svg>\n",
        "      </div>\n",
        "   </body>\n",
        "</html>"
      ],
      "metadata": {
        "colab": {
          "base_uri": "https://localhost:8080/",
          "height": 321
        },
        "id": "FzMgXFiWtTIh",
        "outputId": "f6e1a502-4127-4982-d670-79091e0917f8"
      },
      "execution_count": 3,
      "outputs": [
        {
          "output_type": "display_data",
          "data": {
            "text/plain": [
              "<IPython.core.display.HTML object>"
            ],
            "text/html": [
              "<!DOCTYPE html>\n",
              "<html>\n",
              "  <head>\n",
              "     <script type = \"text/javascript\" src = \"https://d3js.org/d3.v4.min.js\"></script>\n",
              "     <style>\n",
              "        body { font-family: Arial; }\n",
              "     </style>\n",
              "  </head>\n",
              "\n",
              "  <body>\n",
              "     <div id = \"svgcontainer\">\n",
              "        <svg width = \"300\" height = \"300\">\n",
              "           <g transform = \"translate(60,60) rotate(30)\">\n",
              "              <rect x = \"20\" \n",
              "                 y = \"20\" \n",
              "                 width = \"60\" \n",
              "                 height = \"60\" \n",
              "                 fill = \"purple\">\n",
              "              </rect>\n",
              "              <circle cx = \"0\" \n",
              "                 cy = \"0\" \n",
              "                 r = \"30\" \n",
              "                 fill = \"orange\"/>\n",
              "           </g>\n",
              "        </svg>\n",
              "     </div>\n",
              "  </body>\n",
              "</html>\n"
            ]
          },
          "metadata": {}
        }
      ]
    },
    {
      "cell_type": "markdown",
      "source": [],
      "metadata": {
        "id": "kJbb9i3EtqwQ"
      }
    },
    {
      "cell_type": "code",
      "source": [
        " %%html\n",
        "<!DOCTYPE html>\n",
        "<html>\n",
        "   <head>\n",
        "      <script type = \"text/javascript\" src = \"https://d3js.org/d3.v4.min.js\"></script>\n",
        "   </head>\n",
        "\n",
        "   <body>\n",
        "      <h3>Transition example D11AD 60</h3>\n",
        "      <script>\n",
        "         d3.select(\"body\").transition().style(\"background-color\", \"red\");\n",
        "      </script>\n",
        "   </body>\n",
        "</html>"
      ],
      "metadata": {
        "colab": {
          "base_uri": "https://localhost:8080/",
          "height": 58
        },
        "id": "d64iJfA5trQy",
        "outputId": "e89d3bb2-77a4-483b-c908-d9730f088942"
      },
      "execution_count": 7,
      "outputs": [
        {
          "output_type": "display_data",
          "data": {
            "text/plain": [
              "<IPython.core.display.HTML object>"
            ],
            "text/html": [
              "<!DOCTYPE html>\n",
              "<html>\n",
              "  <head>\n",
              "     <script type = \"text/javascript\" src = \"https://d3js.org/d3.v4.min.js\"></script>\n",
              "  </head>\n",
              "\n",
              "  <body>\n",
              "     <h3>Transition example D11AD 60</h3>\n",
              "     <script>\n",
              "        d3.select(\"body\").transition().style(\"background-color\", \"red\");\n",
              "     </script>\n",
              "  </body>\n",
              "</html>\n"
            ]
          },
          "metadata": {}
        }
      ]
    },
    {
      "cell_type": "markdown",
      "source": [
        "Transition of background color to red of body"
      ],
      "metadata": {
        "id": "zHLYx_-Lt9i5"
      }
    },
    {
      "cell_type": "code",
      "source": [
        " %%html\n",
        "<!DOCTYPE html>\n",
        "<html>\n",
        "   <head>\n",
        "      <script type = \"text/javascript\" src = \"https://d3js.org/d3.v4.min.js\"></script>\n",
        "   </head>\n",
        "\n",
        "   <body>\n",
        "      <h3>Transition example D11AD 60</h3>\n",
        "      <script>\n",
        "         d3.selectAll(\"h3\").transition().style(\"color\",\"purple\").duration(5000);\n",
        "      </script>\n",
        "   </body>\n",
        "</html>"
      ],
      "metadata": {
        "colab": {
          "base_uri": "https://localhost:8080/",
          "height": 58
        },
        "id": "FG3vQdRHutIF",
        "outputId": "80ebbea0-d457-431d-af2e-2dadf917a059"
      },
      "execution_count": 11,
      "outputs": [
        {
          "output_type": "display_data",
          "data": {
            "text/plain": [
              "<IPython.core.display.HTML object>"
            ],
            "text/html": [
              "<!DOCTYPE html>\n",
              "<html>\n",
              "  <head>\n",
              "     <script type = \"text/javascript\" src = \"https://d3js.org/d3.v4.min.js\"></script>\n",
              "  </head>\n",
              "\n",
              "  <body>\n",
              "     <h3>Simple transitions</h3>\n",
              "     <script>\n",
              "        d3.selectAll(\"h3\").transition().style(\"color\",\"purple\").duration(5000);\n",
              "     </script>\n",
              "  </body>\n",
              "</html>\n"
            ]
          },
          "metadata": {}
        }
      ]
    },
    {
      "cell_type": "markdown",
      "source": [
        "Transition of text color to purple with tranition lasting for 5 sec using duration function"
      ],
      "metadata": {
        "id": "61SDXJr2u3Mx"
      }
    },
    {
      "cell_type": "code",
      "source": [
        " %%html\n",
        "<!DOCTYPE html>\n",
        "<html>\n",
        "   <head>\n",
        "      <script type = \"text/javascript\" src = \"https://d3js.org/d3.v4.min.js\"></script>\n",
        "   </head>\n",
        "\n",
        "   <body>\n",
        "      <h3> Transition example D11AD 60</h3>\n",
        "      <script>\n",
        "         d3.selectAll(\"h3\").transition()\n",
        "            .style(\"font-size\",\"28px\").delay(2000).duration(2000);\n",
        "      </script>\n",
        "   </body>\n",
        "</html>"
      ],
      "metadata": {
        "colab": {
          "base_uri": "https://localhost:8080/",
          "height": 84
        },
        "id": "nR0AX8Gvu3zd",
        "outputId": "ae36cd72-ee12-49b8-c77d-2d8be9b2b277"
      },
      "execution_count": 13,
      "outputs": [
        {
          "output_type": "display_data",
          "data": {
            "text/plain": [
              "<IPython.core.display.HTML object>"
            ],
            "text/html": [
              "<!DOCTYPE html>\n",
              "<html>\n",
              "  <head>\n",
              "     <script type = \"text/javascript\" src = \"https://d3js.org/d3.v4.min.js\"></script>\n",
              "  </head>\n",
              "\n",
              "  <body>\n",
              "     <h3> Transition example D11AD 60</h3>\n",
              "     <script>\n",
              "        d3.selectAll(\"h3\").transition()\n",
              "           .style(\"font-size\",\"28px\").delay(2000).duration(2000);\n",
              "     </script>\n",
              "  </body>\n",
              "</html>\n"
            ]
          },
          "metadata": {}
        }
      ]
    },
    {
      "cell_type": "markdown",
      "source": [
        "Transition of text size with delay of 2 sec and duration of 2 sec using delay() and duration function respectively"
      ],
      "metadata": {
        "id": "EzjFOUtdv2yO"
      }
    }
  ]
}